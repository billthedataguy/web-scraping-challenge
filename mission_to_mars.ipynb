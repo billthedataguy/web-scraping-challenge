{
 "cells": [
  {
   "cell_type": "code",
   "execution_count": null,
   "id": "05759a34",
   "metadata": {},
   "outputs": [],
   "source": [
    "# Dependencies\n",
    "\n",
    "from bs4 import BeautifulSoup as bs\n",
    "from splinter import Browser\n",
    "from webdriver_manager.chrome import ChromeDriverManager\n",
    "import pandas as pd\n",
    "import requests\n",
    "import pymongo\n",
    "import time"
   ]
  },
  {
   "cell_type": "code",
   "execution_count": null,
   "id": "211aae78",
   "metadata": {},
   "outputs": [],
   "source": [
    "# Set up splinter browser\n",
    "\n",
    "executable_path = {'executable_path': ChromeDriverManager().install()}\n",
    "browser = Browser('chrome', **executable_path, headless=False)\n",
    "\n",
    "time.sleep(1)"
   ]
  },
  {
   "cell_type": "code",
   "execution_count": null,
   "id": "460e2091",
   "metadata": {},
   "outputs": [],
   "source": [
    "# First mars website to scrape\n",
    "\n",
    "url1 = 'https://redplanetscience.com/'\n",
    "\n",
    "browser.visit(url1)\n",
    "\n",
    "time.sleep(1)"
   ]
  },
  {
   "cell_type": "code",
   "execution_count": null,
   "id": "205a9988",
   "metadata": {},
   "outputs": [],
   "source": [
    "# Soupify\n",
    "\n",
    "html = browser.html\n",
    "soup = bs(html, 'html.parser')"
   ]
  },
  {
   "cell_type": "code",
   "execution_count": null,
   "id": "25d92433",
   "metadata": {},
   "outputs": [],
   "source": [
    "news_title = soup.find(\"div\", class_=\"content_title\").text"
   ]
  },
  {
   "cell_type": "code",
   "execution_count": null,
   "id": "4071cc69",
   "metadata": {},
   "outputs": [],
   "source": [
    "news_paragraph = soup.find(\"div\", class_=\"article_teaser_body\").text"
   ]
  },
  {
   "cell_type": "code",
   "execution_count": null,
   "id": "bfbcbfd0",
   "metadata": {},
   "outputs": [],
   "source": [
    "# Deliverables: news_title, news_paragraph"
   ]
  },
  {
   "cell_type": "code",
   "execution_count": null,
   "id": "59a67788",
   "metadata": {},
   "outputs": [],
   "source": [
    "# Second mars website to scrape\n",
    "\n",
    "url2 = 'https://spaceimages-mars.com/'\n",
    "\n",
    "browser.visit(url2)\n",
    "\n",
    "time.sleep(1)"
   ]
  },
  {
   "cell_type": "code",
   "execution_count": null,
   "id": "ffbea534",
   "metadata": {},
   "outputs": [],
   "source": [
    "# Soupify\n",
    "\n",
    "html = browser.html\n",
    "soup = bs(html, 'html.parser')"
   ]
  },
  {
   "cell_type": "code",
   "execution_count": null,
   "id": "91150a97",
   "metadata": {},
   "outputs": [],
   "source": [
    "browser.links.find_by_partial_text('FULL IMAGE').click()"
   ]
  },
  {
   "cell_type": "code",
   "execution_count": null,
   "id": "dbd89d83",
   "metadata": {},
   "outputs": [],
   "source": [
    "# Soupify \n",
    "\n",
    "html = browser.html\n",
    "soup = bs(html, 'html.parser')"
   ]
  },
  {
   "cell_type": "code",
   "execution_count": null,
   "id": "2d4fa6a7",
   "metadata": {},
   "outputs": [],
   "source": [
    "image_rel_url = soup.find(\"img\", class_=\"fancybox-image\")[\"src\"]"
   ]
  },
  {
   "cell_type": "code",
   "execution_count": null,
   "id": "c866d385",
   "metadata": {},
   "outputs": [],
   "source": [
    "image_featured_url = f\"{url2}{image_rel_url}\""
   ]
  },
  {
   "cell_type": "code",
   "execution_count": null,
   "id": "fcadb338",
   "metadata": {},
   "outputs": [],
   "source": [
    "# Deliverable: image_featured_url"
   ]
  },
  {
   "cell_type": "code",
   "execution_count": null,
   "id": "e9f4bfa6",
   "metadata": {},
   "outputs": [],
   "source": [
    "# Third mars website to scrape\n",
    "\n",
    "url3 = \"https://galaxyfacts-mars.com/\""
   ]
  },
  {
   "cell_type": "code",
   "execution_count": null,
   "id": "3d4f70b2",
   "metadata": {},
   "outputs": [],
   "source": [
    "# Scrape the html tables\n",
    "\n",
    "tables = pd.read_html(url3, index_col=None, encoding=\"utf-8\")"
   ]
  },
  {
   "cell_type": "code",
   "execution_count": null,
   "id": "81ee1027",
   "metadata": {},
   "outputs": [],
   "source": [
    "# Choose the one that has mars facts\n",
    "\n",
    "tables[1]"
   ]
  },
  {
   "cell_type": "code",
   "execution_count": null,
   "id": "4fd3d7d9",
   "metadata": {},
   "outputs": [],
   "source": [
    "# Render the table as a dataframe\n",
    "\n",
    "df = tables[1]"
   ]
  },
  {
   "cell_type": "code",
   "execution_count": null,
   "id": "434162a7",
   "metadata": {},
   "outputs": [],
   "source": [
    "# Do cleaning in the dataframe with pandas\n",
    "\n",
    "df = df.rename(columns={0:\"Characteristic\", 1:\"Data\"})"
   ]
  },
  {
   "cell_type": "code",
   "execution_count": null,
   "id": "79b3f783",
   "metadata": {},
   "outputs": [],
   "source": [
    "df[\"Characteristic\"] = df[\"Characteristic\"].str.rstrip(\":\")"
   ]
  },
  {
   "cell_type": "code",
   "execution_count": null,
   "id": "f59d35d1",
   "metadata": {},
   "outputs": [],
   "source": [
    "# Render back to an html table\n",
    "\n",
    "html_table = df.to_html(classes=\"table table-striped\", index=False)"
   ]
  },
  {
   "cell_type": "code",
   "execution_count": null,
   "id": "1335418b",
   "metadata": {},
   "outputs": [],
   "source": [
    "# Deliverable: html_table"
   ]
  },
  {
   "cell_type": "code",
   "execution_count": null,
   "id": "fc0bc31e",
   "metadata": {},
   "outputs": [],
   "source": [
    "# Fourth mars website to scrape\n",
    "\n",
    "url4 = 'https://marshemispheres.com/'\n",
    "\n",
    "browser.visit(url4)\n",
    "\n",
    "time.sleep(1)"
   ]
  },
  {
   "cell_type": "code",
   "execution_count": null,
   "id": "41f7eae7",
   "metadata": {},
   "outputs": [],
   "source": [
    "# Soupify\n",
    "\n",
    "html = browser.html\n",
    "soup = bs(html, 'html.parser')"
   ]
  },
  {
   "cell_type": "code",
   "execution_count": null,
   "id": "3b8bc58f",
   "metadata": {},
   "outputs": [],
   "source": [
    "# Iterate over image_tags and collect tif_titles\n",
    "\n",
    "image_tags = soup.find_all(\"img\", class_=\"thumb\")\n",
    "\n",
    "img_titles = []\n",
    "\n",
    "for tag in image_tags:\n",
    "    \n",
    "    img_titles.append(tag[\"alt\"].replace(\" thumbnail\", \"\"))"
   ]
  },
  {
   "cell_type": "code",
   "execution_count": null,
   "id": "b8cbc5c7",
   "metadata": {},
   "outputs": [],
   "source": [
    "# Iterate over links_found and collect jpg_img_urls\n",
    "\n",
    "links_found = browser.find_by_css('h3').links.find_by_partial_text('Hemisphere Enhanced')\n",
    "\n",
    "jpg_img_urls = []\n",
    "\n",
    "for link in links_found:\n",
    "    \n",
    "    img_link = link[\"href\"]    \n",
    "        \n",
    "    browser.visit(img_link)\n",
    "\n",
    "    time.sleep(2)   \n",
    "\n",
    "    html = browser.html\n",
    "    soup = bs(html, 'html.parser')\n",
    "    \n",
    "    img_tag = soup.find(\"img\", class_=\"wide-image\")    \n",
    "    \n",
    "    img_url = f'{url4}{img_tag[\"src\"]}'         \n",
    "    \n",
    "    jpg_img_urls.append(img_url)\n",
    "    \n",
    "    browser.back()\n",
    "    \n",
    "    time.sleep(2)"
   ]
  },
  {
   "cell_type": "code",
   "execution_count": null,
   "id": "6f805da7",
   "metadata": {},
   "outputs": [],
   "source": [
    "# Zip titles and urls into a list\n",
    "\n",
    "photo_data = list(zip(img_titles, jpg_img_urls))"
   ]
  },
  {
   "cell_type": "code",
   "execution_count": null,
   "id": "20ad1594",
   "metadata": {},
   "outputs": [],
   "source": [
    "# Deliverables: img_titles, jpg_img_urls, photo_data"
   ]
  },
  {
   "cell_type": "code",
   "execution_count": null,
   "id": "6e0672dd",
   "metadata": {},
   "outputs": [],
   "source": [
    "# Write all scraped artefacts to dictionary\n",
    "\n",
    "mars_dict = {\n",
    "    \"news_title\" : news_title,\n",
    "    \"news_paragraph\" : news_paragraph,\n",
    "    \"image_featured_url\" : image_featured_url,\n",
    "    \"html_table\" : html_table,\n",
    "    \"photo_data\" : photo_data     \n",
    "}"
   ]
  },
  {
   "cell_type": "code",
   "execution_count": null,
   "id": "b75a7c1c",
   "metadata": {},
   "outputs": [],
   "source": [
    "# Quit the browser\n",
    "\n",
    "browser.quit()"
   ]
  }
 ],
 "metadata": {
  "kernelspec": {
   "display_name": "Python 3 (ipykernel)",
   "language": "python",
   "name": "python3"
  },
  "language_info": {
   "codemirror_mode": {
    "name": "ipython",
    "version": 3
   },
   "file_extension": ".py",
   "mimetype": "text/x-python",
   "name": "python",
   "nbconvert_exporter": "python",
   "pygments_lexer": "ipython3",
   "version": "3.8.13"
  },
  "vscode": {
   "interpreter": {
    "hash": "bf9668b974762a48a9fba731c2687cd5dadcd68255289308e9662ee441854090"
   }
  }
 },
 "nbformat": 4,
 "nbformat_minor": 5
}
