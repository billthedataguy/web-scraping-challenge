{
 "cells": [
  {
   "cell_type": "code",
   "execution_count": null,
   "id": "05759a34",
   "metadata": {},
   "outputs": [],
   "source": [
    "from bs4 import BeautifulSoup as bs\n",
    "from splinter import Browser\n",
    "from webdriver_manager.chrome import ChromeDriverManager\n",
    "import pandas as pd\n",
    "import requests\n",
    "import pymongo"
   ]
  },
  {
   "cell_type": "code",
   "execution_count": null,
   "id": "c1052323",
   "metadata": {},
   "outputs": [],
   "source": [
    "# # Initialize PyMongo to work with MongoDBs\n",
    "\n",
    "# conn = 'mongodb://localhost:27017'\n",
    "# client = pymongo.MongoClient(conn)"
   ]
  },
  {
   "cell_type": "code",
   "execution_count": null,
   "id": "ef408912",
   "metadata": {},
   "outputs": [],
   "source": [
    "#  # Define database and collection\n",
    "    \n",
    "# db = client.news_db\n",
    "# collection = db.articles"
   ]
  },
  {
   "cell_type": "code",
   "execution_count": null,
   "id": "211aae78",
   "metadata": {},
   "outputs": [],
   "source": [
    " # Setup splinter\n",
    "    \n",
    "executable_path = {'executable_path': ChromeDriverManager().install()}\n",
    "browser = Browser('chrome', **executable_path, headless=False)"
   ]
  },
  {
   "cell_type": "code",
   "execution_count": null,
   "id": "460e2091",
   "metadata": {},
   "outputs": [],
   "source": [
    "url = 'https://redplanetscience.com/'\n",
    "\n",
    "browser.visit(url)"
   ]
  },
  {
   "cell_type": "code",
   "execution_count": null,
   "id": "205a9988",
   "metadata": {},
   "outputs": [],
   "source": [
    "html = browser.html\n",
    "soup = bs(html, 'html.parser')\n",
    "\n",
    "# soup.prettify()"
   ]
  },
  {
   "cell_type": "code",
   "execution_count": null,
   "id": "25d92433",
   "metadata": {},
   "outputs": [],
   "source": [
    "title = soup.find(\"div\", class_=\"content_title\").text\n",
    "\n",
    "title"
   ]
  },
  {
   "cell_type": "code",
   "execution_count": null,
   "id": "4071cc69",
   "metadata": {},
   "outputs": [],
   "source": [
    "paragraph = soup.find(\"div\", class_=\"article_teaser_body\").text\n",
    "\n",
    "paragraph"
   ]
  },
  {
   "cell_type": "code",
   "execution_count": null,
   "id": "59a67788",
   "metadata": {},
   "outputs": [],
   "source": [
    "url = 'https://spaceimages-mars.com/'\n",
    "\n",
    "browser.visit(url)"
   ]
  },
  {
   "cell_type": "code",
   "execution_count": null,
   "id": "ffbea534",
   "metadata": {},
   "outputs": [],
   "source": [
    "html = browser.html\n",
    "soup = bs(html, 'html.parser')\n",
    "\n",
    "# soup.prettify()"
   ]
  },
  {
   "cell_type": "code",
   "execution_count": null,
   "id": "91150a97",
   "metadata": {},
   "outputs": [],
   "source": [
    "browser.links.find_by_partial_text('FULL IMAGE').click()"
   ]
  },
  {
   "cell_type": "code",
   "execution_count": null,
   "id": "2d4fa6a7",
   "metadata": {},
   "outputs": [],
   "source": [
    "html = browser.html\n",
    "soup = bs(html, 'html.parser')\n",
    "image_rel_url = soup.find(\"img\", class_=\"fancybox-image\")[\"src\"]"
   ]
  },
  {
   "cell_type": "code",
   "execution_count": null,
   "id": "8c0876c9",
   "metadata": {},
   "outputs": [],
   "source": [
    "browser.url"
   ]
  },
  {
   "cell_type": "code",
   "execution_count": null,
   "id": "c866d385",
   "metadata": {},
   "outputs": [],
   "source": [
    "featured_image_url = f\"{browser.url}{image_rel_url}\"\n",
    "featured_image_url"
   ]
  },
  {
   "cell_type": "code",
   "execution_count": null,
   "id": "e9f4bfa6",
   "metadata": {},
   "outputs": [],
   "source": [
    "url = \"https://galaxyfacts-mars.com/\""
   ]
  },
  {
   "cell_type": "code",
   "execution_count": null,
   "id": "3d4f70b2",
   "metadata": {},
   "outputs": [],
   "source": [
    "tables = pd.read_html(url)"
   ]
  },
  {
   "cell_type": "code",
   "execution_count": null,
   "id": "81ee1027",
   "metadata": {},
   "outputs": [],
   "source": [
    "tables[1]"
   ]
  },
  {
   "cell_type": "code",
   "execution_count": null,
   "id": "4fd3d7d9",
   "metadata": {},
   "outputs": [],
   "source": [
    "df = tables[1]"
   ]
  },
  {
   "cell_type": "code",
   "execution_count": null,
   "id": "434162a7",
   "metadata": {},
   "outputs": [],
   "source": [
    "df = df.rename(columns={0:\"Characteristic\", 1:\"Data\"})"
   ]
  },
  {
   "cell_type": "code",
   "execution_count": null,
   "id": "dc91d26a",
   "metadata": {},
   "outputs": [],
   "source": [
    "df"
   ]
  },
  {
   "cell_type": "code",
   "execution_count": null,
   "id": "79b3f783",
   "metadata": {},
   "outputs": [],
   "source": [
    "df[\"Characteristic\"] =  df[\"Characteristic\"].str.rstrip(\":\")"
   ]
  },
  {
   "cell_type": "code",
   "execution_count": null,
   "id": "a0cc23d2",
   "metadata": {},
   "outputs": [],
   "source": [
    "df"
   ]
  },
  {
   "cell_type": "code",
   "execution_count": null,
   "id": "f59d35d1",
   "metadata": {},
   "outputs": [],
   "source": [
    "html_table = df.to_html()"
   ]
  },
  {
   "cell_type": "code",
   "execution_count": null,
   "id": "b884e4e8",
   "metadata": {},
   "outputs": [],
   "source": [
    "html_table.replace('\\n', '') "
   ]
  },
  {
   "cell_type": "code",
   "execution_count": null,
   "id": "e69ea5ca",
   "metadata": {},
   "outputs": [],
   "source": [
    "df.to_html('table.html') "
   ]
  },
  {
   "cell_type": "code",
   "execution_count": null,
   "id": "fc0bc31e",
   "metadata": {},
   "outputs": [],
   "source": [
    "url = 'https://marshemispheres.com/'\n",
    "\n",
    "browser.visit(url)\n",
    "hemi_landing_url = browser.url"
   ]
  },
  {
   "cell_type": "code",
   "execution_count": null,
   "id": "41f7eae7",
   "metadata": {},
   "outputs": [],
   "source": [
    "html = browser.html\n",
    "soup = bs(html, 'html.parser')\n",
    "\n",
    "# soup.prettify()"
   ]
  },
  {
   "cell_type": "code",
   "execution_count": null,
   "id": "2c5e661e",
   "metadata": {},
   "outputs": [],
   "source": [
    "image_tags = soup.find_all(\"img\", class_=\"thumb\")"
   ]
  },
  {
   "cell_type": "code",
   "execution_count": null,
   "id": "76163bd0",
   "metadata": {},
   "outputs": [],
   "source": [
    "image_tags"
   ]
  },
  {
   "cell_type": "code",
   "execution_count": null,
   "id": "6f805da7",
   "metadata": {},
   "outputs": [],
   "source": [
    "tif_title = image_tags[0][\"alt\"].replace(\" Enhanced thumbnail\", \"\")\n",
    "tif_title"
   ]
  },
  {
   "cell_type": "code",
   "execution_count": null,
   "id": "9de72681",
   "metadata": {},
   "outputs": [],
   "source": [
    "links_found = browser.find_by_css('h3').links.find_by_partial_text('Hemisphere Enhanced')\n",
    "links_found"
   ]
  },
  {
   "cell_type": "code",
   "execution_count": null,
   "id": "821a51bd",
   "metadata": {},
   "outputs": [],
   "source": [
    "for link in links_found:\n",
    "    img_link = link[\"href\"]\n",
    "    print(img_link)\n",
    "#     browser.visit(img_link)\n",
    "#     html = browser.html\n",
    "#     soup = bs(html, 'html.parser')\n",
    "#     tif_url = soup.find(\"img\", class_=\"wide-image\")\n",
    "#     print(tif_url[\"src\"])\n",
    "    \n",
    "    "
   ]
  },
  {
   "cell_type": "code",
   "execution_count": null,
   "id": "89ee0efc",
   "metadata": {},
   "outputs": [],
   "source": [
    "browser.visit(links_found[0][\"href\"])"
   ]
  },
  {
   "cell_type": "code",
   "execution_count": null,
   "id": "afa8bdd4",
   "metadata": {},
   "outputs": [],
   "source": [
    "html = browser.html\n",
    "soup = bs(html, 'html.parser')\n",
    "\n",
    "soup.prettify()"
   ]
  },
  {
   "cell_type": "code",
   "execution_count": null,
   "id": "a68a68ba",
   "metadata": {},
   "outputs": [],
   "source": [
    "# finds .jpg not .tif\n",
    "\n",
    "wide_img_tag = soup.find(\"img\", class_=\"wide-image\")"
   ]
  },
  {
   "cell_type": "code",
   "execution_count": null,
   "id": "4c4aea6e",
   "metadata": {},
   "outputs": [],
   "source": [
    "wide_img_rel_url = wide_img_tag[\"src\"]"
   ]
  },
  {
   "cell_type": "code",
   "execution_count": null,
   "id": "e0e58bdd",
   "metadata": {},
   "outputs": [],
   "source": [
    "wide_img_url = f\"{hemi_landing_url}{wide_img_rel_url}\""
   ]
  },
  {
   "cell_type": "code",
   "execution_count": null,
   "id": "5df92696",
   "metadata": {},
   "outputs": [],
   "source": [
    "wide_img_url"
   ]
  },
  {
   "cell_type": "code",
   "execution_count": null,
   "id": "0d9e4bf2",
   "metadata": {},
   "outputs": [],
   "source": [
    "# now find .tif\n",
    "\n",
    "downloads_tags = soup.find(\"div\", class_=\"downloads\")"
   ]
  },
  {
   "cell_type": "code",
   "execution_count": null,
   "id": "39ba9d7a",
   "metadata": {},
   "outputs": [],
   "source": [
    "downloads_tags"
   ]
  },
  {
   "cell_type": "code",
   "execution_count": null,
   "id": "d0ec9446",
   "metadata": {},
   "outputs": [],
   "source": [
    "img_tags = downloads_tags.find_all(\"a\")"
   ]
  },
  {
   "cell_type": "code",
   "execution_count": null,
   "id": "3c1926ae",
   "metadata": {},
   "outputs": [],
   "source": [
    "img_tags"
   ]
  },
  {
   "cell_type": "code",
   "execution_count": null,
   "id": "dce92386",
   "metadata": {},
   "outputs": [],
   "source": [
    "tif_url = f'{hemi_landing_url}{img_tags[1][\"href\"]}'"
   ]
  },
  {
   "cell_type": "code",
   "execution_count": null,
   "id": "ddc5927a",
   "metadata": {},
   "outputs": [],
   "source": [
    "tif_url"
   ]
  },
  {
   "cell_type": "code",
   "execution_count": null,
   "id": "bce0c25a",
   "metadata": {},
   "outputs": [],
   "source": [
    "{\"title\":tif_title, \"img_url\":tif_url}"
   ]
  },
  {
   "cell_type": "code",
   "execution_count": null,
   "id": "b75a7c1c",
   "metadata": {},
   "outputs": [],
   "source": [
    "browser.quit()"
   ]
  }
 ],
 "metadata": {
  "kernelspec": {
   "display_name": "Python 3 (ipykernel)",
   "language": "python",
   "name": "python3"
  },
  "language_info": {
   "codemirror_mode": {
    "name": "ipython",
    "version": 3
   },
   "file_extension": ".py",
   "mimetype": "text/x-python",
   "name": "python",
   "nbconvert_exporter": "python",
   "pygments_lexer": "ipython3",
   "version": "3.8.13"
  }
 },
 "nbformat": 4,
 "nbformat_minor": 5
}
