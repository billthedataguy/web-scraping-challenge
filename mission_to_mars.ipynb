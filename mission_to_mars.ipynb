{
 "cells": [
  {
   "cell_type": "code",
   "execution_count": null,
   "id": "05759a34",
   "metadata": {},
   "outputs": [],
   "source": [
    "from bs4 import BeautifulSoup as bs\n",
    "from splinter import Browser\n",
    "from webdriver_manager.chrome import ChromeDriverManager\n",
    "import pandas as pd\n",
    "import requests\n",
    "import pymongo\n",
    "import time"
   ]
  },
  {
   "cell_type": "code",
   "execution_count": null,
   "id": "211aae78",
   "metadata": {},
   "outputs": [],
   "source": [
    "executable_path = {'executable_path': ChromeDriverManager().install()}\n",
    "browser = Browser('chrome', **executable_path, headless=False)\n",
    "\n",
    "time.sleep(1)"
   ]
  },
  {
   "cell_type": "code",
   "execution_count": null,
   "id": "460e2091",
   "metadata": {},
   "outputs": [],
   "source": [
    "url1 = 'https://redplanetscience.com/'\n",
    "\n",
    "browser.visit(url1)\n",
    "\n",
    "time.sleep(1)"
   ]
  },
  {
   "cell_type": "code",
   "execution_count": null,
   "id": "205a9988",
   "metadata": {},
   "outputs": [],
   "source": [
    "html = browser.html\n",
    "soup = bs(html, 'html.parser')"
   ]
  },
  {
   "cell_type": "code",
   "execution_count": null,
   "id": "25d92433",
   "metadata": {},
   "outputs": [],
   "source": [
    "news_title = soup.find(\"div\", class_=\"content_title\").text"
   ]
  },
  {
   "cell_type": "code",
   "execution_count": null,
   "id": "4071cc69",
   "metadata": {},
   "outputs": [],
   "source": [
    "news_paragraph = soup.find(\"div\", class_=\"article_teaser_body\").text"
   ]
  },
  {
   "cell_type": "code",
   "execution_count": null,
   "id": "bfbcbfd0",
   "metadata": {},
   "outputs": [],
   "source": [
    "# Deliverables: news_title, news_paragraph"
   ]
  },
  {
   "cell_type": "code",
   "execution_count": null,
   "id": "59a67788",
   "metadata": {},
   "outputs": [],
   "source": [
    "url2 = 'https://spaceimages-mars.com/'\n",
    "\n",
    "browser.visit(url2)\n",
    "\n",
    "time.sleep(1)"
   ]
  },
  {
   "cell_type": "code",
   "execution_count": null,
   "id": "ffbea534",
   "metadata": {},
   "outputs": [],
   "source": [
    "html = browser.html\n",
    "soup = bs(html, 'html.parser')"
   ]
  },
  {
   "cell_type": "code",
   "execution_count": null,
   "id": "91150a97",
   "metadata": {},
   "outputs": [],
   "source": [
    "browser.links.find_by_partial_text('FULL IMAGE').click()"
   ]
  },
  {
   "cell_type": "code",
   "execution_count": null,
   "id": "dbd89d83",
   "metadata": {},
   "outputs": [],
   "source": [
    "html = browser.html\n",
    "soup = bs(html, 'html.parser')"
   ]
  },
  {
   "cell_type": "code",
   "execution_count": null,
   "id": "2d4fa6a7",
   "metadata": {},
   "outputs": [],
   "source": [
    "image_rel_url = soup.find(\"img\", class_=\"fancybox-image\")[\"src\"]"
   ]
  },
  {
   "cell_type": "code",
   "execution_count": null,
   "id": "c866d385",
   "metadata": {},
   "outputs": [],
   "source": [
    "image_featured_url = f\"{url2}{image_rel_url}\""
   ]
  },
  {
   "cell_type": "code",
   "execution_count": null,
   "id": "fcadb338",
   "metadata": {},
   "outputs": [],
   "source": [
    "# Deliverables: image_featured_url"
   ]
  },
  {
   "cell_type": "code",
   "execution_count": null,
   "id": "e9f4bfa6",
   "metadata": {},
   "outputs": [],
   "source": [
    "url3 = \"https://galaxyfacts-mars.com/\""
   ]
  },
  {
   "cell_type": "code",
   "execution_count": null,
   "id": "3d4f70b2",
   "metadata": {},
   "outputs": [],
   "source": [
    "tables = pd.read_html(url3)"
   ]
  },
  {
   "cell_type": "code",
   "execution_count": null,
   "id": "81ee1027",
   "metadata": {},
   "outputs": [],
   "source": [
    "tables[1]"
   ]
  },
  {
   "cell_type": "code",
   "execution_count": null,
   "id": "4fd3d7d9",
   "metadata": {},
   "outputs": [],
   "source": [
    "df = tables[1]"
   ]
  },
  {
   "cell_type": "code",
   "execution_count": null,
   "id": "434162a7",
   "metadata": {},
   "outputs": [],
   "source": [
    "df = df.rename(columns={0:\"Characteristic\", 1:\"Data\"})"
   ]
  },
  {
   "cell_type": "code",
   "execution_count": null,
   "id": "79b3f783",
   "metadata": {},
   "outputs": [],
   "source": [
    "df[\"Characteristic\"] =  df[\"Characteristic\"].str.rstrip(\":\")"
   ]
  },
  {
   "cell_type": "code",
   "execution_count": null,
   "id": "f59d35d1",
   "metadata": {},
   "outputs": [],
   "source": [
    "html_table = df.to_html()"
   ]
  },
  {
   "cell_type": "code",
   "execution_count": null,
   "id": "b884e4e8",
   "metadata": {},
   "outputs": [],
   "source": [
    "html_table = html_table.replace('\\n', '') "
   ]
  },
  {
   "cell_type": "code",
   "execution_count": null,
   "id": "1335418b",
   "metadata": {},
   "outputs": [],
   "source": [
    "# Deliverables: html_table"
   ]
  },
  {
   "cell_type": "code",
   "execution_count": null,
   "id": "fc0bc31e",
   "metadata": {},
   "outputs": [],
   "source": [
    "url4 = 'https://marshemispheres.com/'\n",
    "\n",
    "browser.visit(url4)\n",
    "\n",
    "time.sleep(1)"
   ]
  },
  {
   "cell_type": "code",
   "execution_count": null,
   "id": "41f7eae7",
   "metadata": {},
   "outputs": [],
   "source": [
    "html = browser.html\n",
    "soup = bs(html, 'html.parser')"
   ]
  },
  {
   "cell_type": "code",
   "execution_count": null,
   "id": "3b8bc58f",
   "metadata": {},
   "outputs": [],
   "source": [
    "# iterate over image_tags and collect tif_titles\n",
    "\n",
    "image_tags = soup.find_all(\"img\", class_=\"thumb\")\n",
    "\n",
    "tif_titles = []\n",
    "\n",
    "for tag in image_tags:\n",
    "    \n",
    "    tif_titles.append(tag[\"alt\"].replace(\" thumbnail\", \"\"))"
   ]
  },
  {
   "cell_type": "code",
   "execution_count": null,
   "id": "dd52f579",
   "metadata": {},
   "outputs": [],
   "source": [
    "# iterate over links_found and collect tif_urls\n",
    "\n",
    "links_found = browser.find_by_css('h3').links.find_by_partial_text('Hemisphere Enhanced')\n",
    "\n",
    "tif_urls = []\n",
    "\n",
    "for link in links_found:\n",
    "    \n",
    "    img_link = link[\"href\"]    \n",
    "        \n",
    "    browser.visit(img_link)\n",
    "\n",
    "    time.sleep(1)\n",
    "\n",
    "    html = browser.html\n",
    "    soup = bs(html, 'html.parser')\n",
    "    \n",
    "    downloads_tags = soup.find(\"div\", class_=\"downloads\")    \n",
    "    \n",
    "    img_tags = downloads_tags.find_all(\"a\")\n",
    "    \n",
    "    img_url = f'{url4}{img_tags[1][\"href\"]}'\n",
    "    \n",
    "    tif_urls.append(img_url)\n",
    "    \n",
    "    browser.back()\n",
    "    \n",
    "    time.sleep(1)\n",
    "    \n",
    "print(\"Scrape completed!\")"
   ]
  },
  {
   "cell_type": "code",
   "execution_count": null,
   "id": "6f805da7",
   "metadata": {},
   "outputs": [],
   "source": [
    "tifs = list(zip(tif_titles, tif_urls))"
   ]
  },
  {
   "cell_type": "code",
   "execution_count": null,
   "id": "821a51bd",
   "metadata": {},
   "outputs": [],
   "source": [
    "for tif in tifs:\n",
    "    \n",
    "    title, url = tif\n",
    "    \n",
    "    print(f\"{title} = {url}\\n\\n\")  "
   ]
  },
  {
   "cell_type": "code",
   "execution_count": null,
   "id": "20ad1594",
   "metadata": {},
   "outputs": [],
   "source": [
    "# Deliverables: tif_titles, tif_urls, tifs"
   ]
  },
  {
   "cell_type": "code",
   "execution_count": null,
   "id": "6e0672dd",
   "metadata": {},
   "outputs": [],
   "source": [
    "deliverables = {\n",
    "    \n",
    "    \"image_featured_url\" : image_featured_url,\n",
    "    \"html_table\" : html_table,\n",
    "    \"tifs\" : tifs  \n",
    "    \n",
    "}"
   ]
  },
  {
   "cell_type": "code",
   "execution_count": null,
   "id": "b75a7c1c",
   "metadata": {},
   "outputs": [],
   "source": [
    "browser.quit()"
   ]
  }
 ],
 "metadata": {
  "kernelspec": {
   "display_name": "Python 3 (ipykernel)",
   "language": "python",
   "name": "python3"
  },
  "language_info": {
   "codemirror_mode": {
    "name": "ipython",
    "version": 3
   },
   "file_extension": ".py",
   "mimetype": "text/x-python",
   "name": "python",
   "nbconvert_exporter": "python",
   "pygments_lexer": "ipython3",
   "version": "3.8.13"
  },
  "vscode": {
   "interpreter": {
    "hash": "bf9668b974762a48a9fba731c2687cd5dadcd68255289308e9662ee441854090"
   }
  }
 },
 "nbformat": 4,
 "nbformat_minor": 5
}
